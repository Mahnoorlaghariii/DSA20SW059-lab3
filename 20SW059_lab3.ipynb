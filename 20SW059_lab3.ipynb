{
  "nbformat": 4,
  "nbformat_minor": 0,
  "metadata": {
    "colab": {
      "provenance": [],
      "authorship_tag": "ABX9TyPRr+qC0H29rke+hGDvVOXG",
      "include_colab_link": true
    },
    "kernelspec": {
      "name": "python3",
      "display_name": "Python 3"
    },
    "language_info": {
      "name": "python"
    }
  },
  "cells": [
    {
      "cell_type": "markdown",
      "metadata": {
        "id": "view-in-github",
        "colab_type": "text"
      },
      "source": [
        "<a href=\"https://colab.research.google.com/github/Mahnoorlaghariii/DSA20SW059-lab3/blob/main/20SW059_lab3.ipynb\" target=\"_parent\"><img src=\"https://colab.research.google.com/assets/colab-badge.svg\" alt=\"Open In Colab\"/></a>"
      ]
    },
    {
      "cell_type": "code",
      "execution_count": 2,
      "metadata": {
        "colab": {
          "base_uri": "https://localhost:8080/"
        },
        "id": "25QNFLJitGJy",
        "outputId": "5a931614-774a-4848-d45b-fbe31c7314e8"
      },
      "outputs": [
        {
          "output_type": "stream",
          "name": "stdout",
          "text": [
            "expected result: 10, actual result: 15.0\n",
            "expected result: 7123.6902801, actual result: 7123.690280065897\n"
          ]
        }
      ],
      "source": [
        "def population_density(population, land_area):\n",
        "    density = population / land_area\n",
        "    return density\n",
        "\n",
        "# test cases for your function\n",
        "test1 = population_density(15, 1)\n",
        "expected_result1 = 10\n",
        "print(\"expected result: {}, actual result: {}\".format(expected_result1, test1))\n",
        "\n",
        "test2 = population_density(864816, 121.4)\n",
        "expected_result2 = 7123.6902801\n",
        "print(\"expected result: {}, actual result: {}\".format(expected_result2, test2))\n"
      ]
    },
    {
      "cell_type": "code",
      "source": [
        "def readable_timedelta(days):\n",
        "    weeks = days // 7\n",
        "    remaining_days = days % 7\n",
        "    return \"{} week(s) and {} day(s).\".format(weeks, remaining_days)\n",
        "\n",
        "# test your function\n",
        "print(readable_timedelta(10))\n"
      ],
      "metadata": {
        "colab": {
          "base_uri": "https://localhost:8080/"
        },
        "id": "oBgce9uutSIF",
        "outputId": "22e69ede-518a-429f-b4ec-9a54bf968f08"
      },
      "execution_count": 3,
      "outputs": [
        {
          "output_type": "stream",
          "name": "stdout",
          "text": [
            "1 week(s) and 3 day(s).\n"
          ]
        }
      ]
    },
    {
      "cell_type": "code",
      "source": [
        "numbers = [\n",
        "    [34, 63, 88, 71, 29],\n",
        "    [90, 78, 51, 27, 45],\n",
        "    [63, 37, 85, 46, 22],\n",
        "    [51, 22, 34, 11, 18]\n",
        "]\n",
        "\n",
        "averages = list(map(lambda num_list: sum(num_list) / len(num_list), numbers))\n",
        "\n",
        "print(averages)\n"
      ],
      "metadata": {
        "colab": {
          "base_uri": "https://localhost:8080/"
        },
        "id": "2LF2dfestrOJ",
        "outputId": "cb096683-889d-460d-c99e-f198dda10e39"
      },
      "execution_count": 4,
      "outputs": [
        {
          "output_type": "stream",
          "name": "stdout",
          "text": [
            "[57.0, 58.2, 50.6, 27.2]\n"
          ]
        }
      ]
    },
    {
      "cell_type": "code",
      "source": [
        "cities = [\"New York City\", \"Los Angeles\", \"Chicago\", \"Mountain View\", \"Denver\", \"Boston\"]\n",
        "\n",
        "short_cities = list(filter(lambda name: len(name) < 10, cities))\n",
        "\n",
        "print(short_cities)\n"
      ],
      "metadata": {
        "colab": {
          "base_uri": "https://localhost:8080/"
        },
        "id": "eGXFRkU0uWIh",
        "outputId": "0faaf8dc-e9c4-43cc-abbe-2b51799c8455"
      },
      "execution_count": 5,
      "outputs": [
        {
          "output_type": "stream",
          "name": "stdout",
          "text": [
            "['Chicago', 'Denver', 'Boston']\n"
          ]
        }
      ]
    },
    {
      "cell_type": "code",
      "source": [
        "# Get and process input for a list of names\n",
        "names_input = input(\"Enter a list of student names separated by spaces: \")\n",
        "names = names_input.split()\n",
        "\n",
        "# Get and process input for a list of the number of assignments\n",
        "assignments_input = input(\"Enter the number of missing assignments for each student separated by spaces: \")\n",
        "assignments = list(map(int, assignments_input.split()))\n",
        "\n",
        "# Get and process input for a list of grades\n",
        "grades_input = input(\"Enter the current grades for each student separated by spaces: \")\n",
        "grades = list(map(float, grades_input.split()))\n",
        "\n",
        "# Message string to be used for each student\n",
        "message = \"Hi {},\\n\\nThis is a reminder that you have {} assignments left to submit before you can graduate. Your current grade is {} and can increase to {} if you submit all assignments before the due date.\\n\\n\"\n",
        "\n",
        "# Write a for loop that iterates through each set of names, assignments, and grades to print each student's message\n",
        "for name, num_assignments, grade in zip(names, assignments, grades):\n",
        "    potential_grade = grade + (2 * num_assignments)\n",
        "    print(message.format(name, num_assignments, grade, potential_grade))\n"
      ],
      "metadata": {
        "colab": {
          "base_uri": "https://localhost:8080/"
        },
        "id": "kpJMXxDQvM6n",
        "outputId": "cbf362e8-1060-4b2b-e280-580934b8e981"
      },
      "execution_count": 6,
      "outputs": [
        {
          "output_type": "stream",
          "name": "stdout",
          "text": [
            "Enter a list of student names separated by spaces: mahnoor muskan hina\n",
            "Enter the number of missing assignments for each student separated by spaces: 2 4 6\n",
            "Enter the current grades for each student separated by spaces: 5 6 9\n",
            "Hi mahnoor,\n",
            "\n",
            "This is a reminder that you have 2 assignments left to submit before you can graduate. Your current grade is 5.0 and can increase to 9.0 if you submit all assignments before the due date.\n",
            "\n",
            "\n",
            "Hi muskan,\n",
            "\n",
            "This is a reminder that you have 4 assignments left to submit before you can graduate. Your current grade is 6.0 and can increase to 14.0 if you submit all assignments before the due date.\n",
            "\n",
            "\n",
            "Hi hina,\n",
            "\n",
            "This is a reminder that you have 6 assignments left to submit before you can graduate. Your current grade is 9.0 and can increase to 21.0 if you submit all assignments before the due date.\n",
            "\n",
            "\n"
          ]
        }
      ]
    },
    {
      "cell_type": "markdown",
      "source": [
        "# New Section"
      ],
      "metadata": {
        "id": "4AQUcuz3v0KA"
      }
    },
    {
      "cell_type": "code",
      "source": [
        "with open(\"flying_circus_cast.txt\") as song:\n",
        "    print(song.read(2))   # Reads the first 2 characters: \"We\"\n",
        "    print(song.read(8))   # Reads the next 8 characters: \"'re the k\"\n",
        "    print(song.read())    # Reads the rest of the file: \"nights of the round table\\nWe dance whenever we're able\"\n"
      ],
      "metadata": {
        "colab": {
          "base_uri": "https://localhost:8080/"
        },
        "id": "ai3glUxhyrFw",
        "outputId": "b161fc15-4813-4e53-f356-94f1e2286cb4"
      },
      "execution_count": 16,
      "outputs": [
        {
          "output_type": "stream",
          "name": "stdout",
          "text": [
            "Gr\n",
            "aham Cha\n",
            "pman,  Various / ... (46 episodes, 1969-1974)\n",
            "Eric Idle,  Various / ... (46 episodes, 1969-1974)\n",
            "Terry Jones,  Various / ... (46 episodes, 1969-1974)\n",
            "Michael Palin,  It's Man / ... (46 episodes, 1969-1974)\n",
            "Terry Gilliam,  Various / ... (46 episodes, 1969-1974)\n",
            "John Cleese,  Announcer / ... (40 episodes, 1969-1973)\n",
            "Carol Cleveland,  Various / ... (34 episodes, 1969-1974)\n",
            "Ian Davidson,  Algy Braithwaite / ... (8 episodes, 1969-1970)\n",
            "John Hughman,  Alfred Lord Tennyson / ... (8 episodes, 1970-1974)\n",
            "The Fred Tomlinson Singers,  Amantillado Chorus / ... (7 episodes, 1969-1973)\n",
            "Connie Booth,  Animated Mother / ... (6 episodes, 1969-1974)\n",
            "Bob Raymond,  'Dad' / ... (5 episodes, 1974)\n",
            "Lyn Ashley,  Algon Girl / ... (5 episodes, 1970-1972)\n",
            "Rita Davies,  Argument Secretary / ... (4 episodes, 1969-1972)\n",
            "Stanley Mason,  Clapper Man / ... (4 episodes, 1970-1971)\n",
            "David Ballantyne,  Ivan the Terrible / ... (3 episodes, 1970-1971)\n",
            "Donna Reading,  Girl in Bikini with Its Man / ... (3 episodes, 1969)\n",
            "Peter Brett,  Door-to-Door Martial Arts Salesman (2 episodes, 1974)\n",
            "Maureen Flanagan,  Anona Winn / ... (2 episodes, 1969-1970)\n",
            "Katya Wyeth,  Elsie / ... (2 episodes, 1969)\n",
            "Frank Lester,  The Late Professor Thynne (2 episodes, 1972-1974)\n",
            "Neil Innes,  Hesitant guitarist / ... (2 episodes, 1974)\n",
            "Dick Vosburgh,  Van der Berg (1 episode, 1969)\n",
            "Sandra Richards,  'Semprini' Girl / ... (1 episode, 1970)\n",
            "Julia Breck,  Puss In Boots / ... (1 episode, 1972)\n",
            "Nicki Howorth,  Miss Bladder (1 episode, 1972)\n",
            "Jimmy Hill,  Himself (1 episode, 1974)\n",
            "Barry Cryer,  Herman Rodrigues (1 episode, 1969)\n",
            "Jeannette Wild,  Second Secretary (1 episode, 1970)\n",
            "Marjorie Wilde,  Dear Old Lady (1 episode, 1970)\n",
            "Marie Anderson,  Girl interviewing the announcer (1 episode, 1972)\n",
            "Caron Gardner,  Mary (1 episode, 1973)\n",
            "Nosher Powell,  Jack Bodell (1 episode, 1973)\n",
            "Carolae Donoghue,  Vera's Husband's Mistress (1 episode, 1969)\n",
            "Vincent Wong,  Mr. Kamikaze (1 episode, 1970)\n",
            "Helena Clayton,  Various Roles (1 episode, 1971)\n",
            "Nigel Jones,  Various (1 episode, 1972)\n",
            "Roy Gunson, (1 episode, 1970)\n",
            "Daphne Davey,  Various Roles (1 episode, 1971)\n",
            "Stenson Falke, (1 episode, 1974)\n",
            "Alexander Curry,  Various (1 episode, 1970)\n",
            "Frank Williams,  Clerk of the Court (1 episode, 1972)\n",
            "Ralph Wood, (1 episode, 1970)\n",
            "Rosalind Bailey,  Elizabethan Girl (1 episode, 1972)\n",
            "Marion Mould, (1 episode, 1974)\n",
            "Sheila Sands,  Stripper / ... (uncredited) (2 episodes, 1969)\n",
            "Richard Baker,  Himself - BBC News Anchor (uncredited) (3 episodes, 1972-1973)\n",
            "Douglas Adams,  Dr. Emile Koning - Surgeon / ... (uncredited) (2 episodes, 1974)\n",
            "Ewa Aulin,  Harrassed Woman (uncredited) (1 episode, 1969)\n",
            "Reginald Bosanquet,  Himself (uncredited) (1 episode, 1970)\n",
            "Barbara Lindley,  Bride (uncredited) (1 episode, 1970)\n",
            "Roy Brent,  Armoured Knight (uncredited) (1 episode, 1972)\n",
            "Jonas Card,  Armoured Knight (uncredited) (1 episode, 1972)\n",
            "Tony Christopher,  Armoured Knight (uncredited) (1 episode, 1972)\n",
            "Beulah Hughes, (uncredited) (1 episode, 1972)\n",
            "Peter Kodak,  Armoured Knight (uncredited) (1 episode, 1972)\n",
            "Lulu,  Herself (uncredited) (1 episode, 1972)\n",
            "Jay Neill,  Armoured Knight (uncredited) (1 episode, 1972)\n",
            "Graham Skidmore,  Armoured Knight (uncredited) (1 episode, 1972)\n",
            "Ringo Starr,  Himself (uncredited) (1 episode, 1972)\n",
            "Fred Tomlinson,  Superintendent McGough (uncredited) (1 episode, 1972)\n",
            "David Hamilton,  Himself - Thames TV Announcer (uncredited) (1 episode, 1973)\n",
            "Suzy Mandel,  German Girl (uncredited) (1 episode, 1974)\n",
            "Peter Woods,  BBC Presenter (uncredited) (1 episode, 1974)\n"
          ]
        }
      ]
    },
    {
      "cell_type": "code",
      "source": [
        "def create_cast_list(filename):\n",
        "    cast_list = []\n",
        "    with open(filename, 'r') as file:\n",
        "        for line in file:\n",
        "            actor_name = line.split(',')[0].strip()\n",
        "            cast_list.append(actor_name)\n",
        "    return cast_list\n",
        "\n",
        "cast_list = create_cast_list('flying_circus_cast.txt')\n",
        "\n",
        "for actor in cast_list:\n",
        "    print(actor)\n"
      ],
      "metadata": {
        "colab": {
          "base_uri": "https://localhost:8080/"
        },
        "id": "ZGzzxtaxzTre",
        "outputId": "6c1513ac-f5de-409f-8fdd-7a31c6e17ce9"
      },
      "execution_count": 17,
      "outputs": [
        {
          "output_type": "stream",
          "name": "stdout",
          "text": [
            "Graham Chapman\n",
            "Eric Idle\n",
            "Terry Jones\n",
            "Michael Palin\n",
            "Terry Gilliam\n",
            "John Cleese\n",
            "Carol Cleveland\n",
            "Ian Davidson\n",
            "John Hughman\n",
            "The Fred Tomlinson Singers\n",
            "Connie Booth\n",
            "Bob Raymond\n",
            "Lyn Ashley\n",
            "Rita Davies\n",
            "Stanley Mason\n",
            "David Ballantyne\n",
            "Donna Reading\n",
            "Peter Brett\n",
            "Maureen Flanagan\n",
            "Katya Wyeth\n",
            "Frank Lester\n",
            "Neil Innes\n",
            "Dick Vosburgh\n",
            "Sandra Richards\n",
            "Julia Breck\n",
            "Nicki Howorth\n",
            "Jimmy Hill\n",
            "Barry Cryer\n",
            "Jeannette Wild\n",
            "Marjorie Wilde\n",
            "Marie Anderson\n",
            "Caron Gardner\n",
            "Nosher Powell\n",
            "Carolae Donoghue\n",
            "Vincent Wong\n",
            "Helena Clayton\n",
            "Nigel Jones\n",
            "Roy Gunson\n",
            "Daphne Davey\n",
            "Stenson Falke\n",
            "Alexander Curry\n",
            "Frank Williams\n",
            "Ralph Wood\n",
            "Rosalind Bailey\n",
            "Marion Mould\n",
            "Sheila Sands\n",
            "Richard Baker\n",
            "Douglas Adams\n",
            "Ewa Aulin\n",
            "Reginald Bosanquet\n",
            "Barbara Lindley\n",
            "Roy Brent\n",
            "Jonas Card\n",
            "Tony Christopher\n",
            "Beulah Hughes\n",
            "Peter Kodak\n",
            "Lulu\n",
            "Jay Neill\n",
            "Graham Skidmore\n",
            "Ringo Starr\n",
            "Fred Tomlinson\n",
            "David Hamilton\n",
            "Suzy Mandel\n",
            "Peter Woods\n"
          ]
        }
      ]
    }
  ]
}